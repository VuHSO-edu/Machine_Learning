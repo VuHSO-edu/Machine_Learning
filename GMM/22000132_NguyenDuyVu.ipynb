// ... existing code ...
    for i in range(num_classes):
        # Vẽ text tên cụm tại trung vị của mỗi cụm
        median = np.median(X[labels == i, :], axis=0)
        median = np.ravel(median)
        if median.shape[0] == 1:
            xtext = median[0]
            ytext = 0
        else:
            xtext, ytext = median[0], median[1]
        txt = ax.text(xtext, ytext, str(i), fontsize=24)
// ... existing code ...
