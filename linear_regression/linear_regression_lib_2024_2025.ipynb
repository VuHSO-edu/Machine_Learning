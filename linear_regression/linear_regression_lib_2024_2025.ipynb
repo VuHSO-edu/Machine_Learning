{
 "cells": [
  {
   "cell_type": "code",
   "id": "initial_id",
   "metadata": {
    "collapsed": true,
    "ExecuteTime": {
     "end_time": "2025-02-20T08:10:06.713924Z",
     "start_time": "2025-02-20T08:10:06.702821Z"
    }
   },
   "source": [
    "import math\n",
    "\n",
    "# import the required libraries\n",
    "\n",
    "import numpy as np\n",
    "import pandas as pd\n",
    "import matplotlib.pyplot as plt\n",
    "\n",
    "# Change to data path on your local machine\n",
    "data = pd.read_csv('D:\\\\Machine Learning\\\\linear_regression\\\\data\\\\SAT_GPA.csv')\n",
    "\n",
    "# Show the description of the data\n",
    "data.describe()\n",
    "\n",
    "# Set to training data\n",
    "X = data['SAT']\n",
    "Y = data['GPA']\n",
    "\n",
    "X_0 = np.array([X]).T\n",
    "Y_0 = np.array([Y]).T\n",
    "X_one = np.ones((X_0.shape[0] , 1))\n",
    "X_3 = np.concatenate((X_one, X_0), axis= 1)\n",
    "A = np.dot(X_3.T, X_3)\n",
    "B = np.dot(X_3.T, Y_0)\n",
    "THETA = np.dot(np.linalg.inv(A), B)\n",
    "\n",
    "\n",
    "print(THETA)\n",
    "\n",
    "# Remind that we need to put component x_0 = 1 to x\n",
    "\n",
    "# plt.scatter(X, Y)\n",
    "# plt.xlabel('SAT', fontsize=20)\n",
    "# plt.ylabel('GPA', fontsize=20)\n",
    "# plt.show()"
   ],
   "outputs": [
    {
     "name": "stdout",
     "output_type": "stream",
     "text": [
      "[[0.2750403 ]\n",
      " [0.00165569]]\n"
     ]
    }
   ],
   "execution_count": 62
  },
  {
   "metadata": {
    "ExecuteTime": {
     "end_time": "2025-02-20T08:14:36.682016Z",
     "start_time": "2025-02-20T08:14:36.567593Z"
    }
   },
   "cell_type": "code",
   "source": [
    "# draw the line of the model\n",
    "\n",
    "THETA_0 = THETA[0][0]\n",
    "\n",
    "THETA_1 = THETA[1][0]\n",
    "\n",
    "x_0 = np.linspace(1600, 2100)\n",
    "y_0 = THETA_0 + THETA_1 * x_0\n",
    "\n",
    "plt.plot(X_0.T, Y_0.T, 'ro')\n",
    "plt.plot(x_0, y_0)\n",
    "plt.axis([1600, 2100, 2, 4])\n",
    "plt.show()"
   ],
   "id": "e1e66635702e0258",
   "outputs": [
    {
     "data": {
      "text/plain": [
       "<Figure size 640x480 with 1 Axes>"
      ],
      "image/png": "[encoded data removed]"
     },
     "metadata": {},
     "output_type": "display_data"
    }
   ],
   "execution_count": 63
  },
  {
   "metadata": {},
   "cell_type": "markdown",
   "source": "# phương pháp K-NN",
   "id": "e3d1535e26e9853a"
  },
  {
   "metadata": {
    "ExecuteTime": {
     "end_time": "2025-02-20T07:35:55.953236Z",
     "start_time": "2025-02-20T07:35:55.939971Z"
    }
   },
   "cell_type": "code",
   "source": [
    "k = 8\n",
    "\n",
    "def distance(array, value):\n",
    "    array = np.array(array)\n",
    "    return abs(array - value)\n",
    "\n",
    "def find_nearest_index(array, value, k):\n",
    "    array_D = distance(array, value)\n",
    "\n",
    "    return np.argsort(array_D)[:k]\n",
    "\n",
    "data_len = len(X)\n",
    "\n",
    "X_train = np.array(X[:64])\n",
    "Y_train = np.array(Y[:64])\n",
    "\n",
    "\n",
    "X_test = np.array(X[64:data_len])\n",
    "Y_test = np.array(Y[64:data_len])\n",
    "\n"
   ],
   "id": "147f0ab07bf3bb87",
   "outputs": [
    {
     "name": "stdout",
     "output_type": "stream",
     "text": [
      "17\n"
     ]
    }
   ],
   "execution_count": 19
  },
  {
   "metadata": {},
   "cell_type": "markdown",
   "source": "# K-NN",
   "id": "3786e33363eb4d83"
  },
  {
   "metadata": {
    "ExecuteTime": {
     "end_time": "2025-02-20T07:01:19.072115Z",
     "start_time": "2025-02-20T07:01:19.066257Z"
    }
   },
   "cell_type": "code",
   "source": [
    "Y_pred = np.zeros(len(X_test))\n",
    "\n",
    "for i in range(len(X_test)):\n",
    "    indexis = find_nearest_index(X_train, X_test[i], k)\n",
    "    for id in indexis:\n",
    "        Y_pred[i] += Y_train[id]\n",
    "    Y_pred[i] = Y_pred[i] / len(indexis)\n",
    "    print(Y_pred[i],'|', Y_test[i])\n"
   ],
   "id": "c6a63b005025b95d",
   "outputs": [
    {
     "name": "stdout",
     "output_type": "stream",
     "text": [
      "3.3925000000000005 | 3.51\n",
      "3.2749999999999995 | 3.52\n",
      "3.2949999999999995 | 3.52\n",
      "3.3975000000000004 | 3.54\n",
      "3.295 | 3.58\n",
      "3.3974999999999995 | 3.58\n",
      "3.3975000000000004 | 3.59\n",
      "3.2587500000000005 | 3.59\n",
      "3.3899999999999997 | 3.6\n",
      "3.3975000000000004 | 3.6\n",
      "3.3874999999999993 | 3.61\n",
      "3.3874999999999993 | 3.62\n",
      "3.3662499999999995 | 3.64\n",
      "3.3874999999999993 | 3.65\n",
      "3.2950000000000004 | 3.71\n",
      "3.3975000000000004 | 3.71\n",
      "3.30875 | 3.71\n",
      "3.3662500000000004 | 3.73\n",
      "3.37625 | 3.76\n",
      "3.3874999999999993 | 3.81\n"
     ]
    }
   ],
   "execution_count": 5
  },
  {
   "metadata": {},
   "cell_type": "markdown",
   "source": "# Đánh giá mô hình",
   "id": "e06fd7b960b3e3d9"
  },
  {
   "metadata": {
    "ExecuteTime": {
     "end_time": "2025-02-20T07:11:25.507381Z",
     "start_time": "2025-02-20T07:11:24.725642Z"
    }
   },
   "cell_type": "code",
   "source": [
    "from sklearn.metrics import mean_squared_error, mean_absolute_error, r2_score\n",
    "\n",
    "# Mean squared error\n",
    "mse = mean_squared_error(Y_test, Y_pred)\n",
    "print('Mean squared error: ', mse)\n",
    "\n",
    "# Mean absolute error\n",
    "mae = mean_absolute_error(Y_test, Y_pred)\n",
    "print('Mean absolute error: ', mae)\n",
    "\n",
    "# R2 score\n",
    "r2_score = r2_score(Y_test, Y_pred)\n",
    "\n",
    "print('R2 score: ', r2_score)\n",
    "\n"
   ],
   "id": "77670b9c58b010eb",
   "outputs": [
    {
     "name": "stdout",
     "output_type": "stream",
     "text": [
      "Mean squared error:  0.08137789062500003\n",
      "Mean absolute error:  0.2711875000000001\n",
      "R2 score:  -10.951518670142466\n"
     ]
    }
   ],
   "execution_count": 7
  },
  {
   "metadata": {},
   "cell_type": "markdown",
   "source": "# Ví dụ A2",
   "id": "c5f4a3986671d8c5"
  },
  {
   "metadata": {
    "ExecuteTime": {
     "end_time": "2025-02-27T07:27:20.765673Z",
     "start_time": "2025-02-27T07:27:20.075248Z"
    }
   },
   "cell_type": "code",
   "source": [
    "from __future__ import division, print_function, unicode_literals\n",
    "import numpy as np\n",
    "import matplotlib.pyplot as plt\n",
    "\n",
    "# Temp (F degree)\n",
    "X = np.array([[194.5, 194.3, 197.9, 198.4, 199.4, 199.9, 200.9, 201.1, 201.4, 201.3,\n",
    "               203.6, 204.6, 209.5, 208.6, 210.7, 211.9, 212.2]]).T\n",
    "# Press (Atm)\n",
    "y = np.array([[20.79,20.79,22.4,22.67,23.15,23.35,23.89,23.99,24.02,24.01,25.14,26.57,\n",
    "               28.49,27.76,29.04,29.88,30.06]]).T\n",
    "\n",
    "\n",
    "\n",
    "# Visualize data\n",
    "\n",
    "plt.plot(X, y, 'ro')\n",
    "plt.axis([193, 213, 19, 31])\n",
    "plt.xlabel('Temperature (F)')\n",
    "plt.ylabel('Pressure (Atm)')\n",
    "plt.show()\n"
   ],
   "id": "512fe7ae91c5d8ac",
   "outputs": [
    {
     "data": {
      "text/plain": [
       "<Figure size 640x480 with 1 Axes>"
      ],
      "image/png": "[encoded data removed]"
     },
     "metadata": {},
     "output_type": "display_data"
    }
   ],
   "execution_count": 3
  },
  {
   "metadata": {},
   "cell_type": "markdown",
   "source": "# Thuật toán K-NN",
   "id": "695108cd1ac2926c"
  },
  {
   "metadata": {
    "ExecuteTime": {
     "end_time": "2025-02-27T07:28:57.483371Z",
     "start_time": "2025-02-27T07:28:57.472373Z"
    }
   },
   "cell_type": "code",
   "source": [
    "k = 4\n",
    "\n",
    "def distance(array, value):\n",
    "    array = np.array(array)\n",
    "    return abs(array - value)\n",
    "\n",
    "def find_nearest_index(array, value, k):\n",
    "    array_D = distance(array, value)\n",
    "\n",
    "    return np.argsort(array_D)[:k]\n",
    "\n",
    "data_len = len(X)\n",
    "\n",
    "X_train = np.array(X[:16])\n",
    "Y_train = np.array(y[:16])\n",
    "print(X_train)\n",
    "X_test = np.array(X[16:data_len])\n",
    "Y_test = np.array(y[16:data_len])\n",
    "\n",
    "Y_pred = np.zeros(len(X_test))\n",
    "\n",
    "for i in range(len(X_test)):\n",
    "    indexis = find_nearest_index(X_train, X_test[i], k)\n",
    "    for id in indexis:\n",
    "        Y_pred[i] += Y_train[id]\n",
    "    Y_pred[i] = Y_pred[i] / len(indexis)\n",
    "    print(Y_pred[i],'|', Y_test[i])\n"
   ],
   "id": "cd88797d9b2c3358",
   "outputs": [
    {
     "name": "stdout",
     "output_type": "stream",
     "text": [
      "[[194.5]\n",
      " [194.3]\n",
      " [197.9]\n",
      " [198.4]\n",
      " [199.4]\n",
      " [199.9]\n",
      " [200.9]\n",
      " [201.1]\n",
      " [201.4]\n",
      " [201.3]\n",
      " [203.6]\n",
      " [204.6]\n",
      " [209.5]\n",
      " [208.6]\n",
      " [210.7]\n",
      " [211.9]]\n",
      "[0.]\n",
      "20.79 | [30.06]\n"
     ]
    },
    {
     "name": "stderr",
     "output_type": "stream",
     "text": [
      "C:\\Users\\Admin\\AppData\\Local\\Temp\\ipykernel_13780\\4157332563.py:24: DeprecationWarning: Conversion of an array with ndim > 0 to a scalar is deprecated, and will error in future. Ensure you extract a single element from your array before performing this operation. (Deprecated NumPy 1.25.)\n",
      "  Y_pred[i] += Y_train[id]\n"
     ]
    }
   ],
   "execution_count": 10
  },
  {
   "metadata": {},
   "cell_type": "markdown",
   "source": "# Đánh giá mô hình",
   "id": "26f9b8565ac33509"
  },
  {
   "metadata": {
    "ExecuteTime": {
     "end_time": "2025-02-20T07:38:50.515984Z",
     "start_time": "2025-02-20T07:38:50.504813Z"
    }
   },
   "cell_type": "code",
   "source": [
    "from sklearn.metrics import mean_squared_error, mean_absolute_error, r2_score\n",
    "\n",
    "# Mean squared error\n",
    "mse = mean_squared_error(Y_test, Y_pred)\n",
    "print('Mean squared error: ', mse)\n",
    "\n",
    "# Mean absolute error\n",
    "\n",
    "mae = mean_absolute_error(Y_test, Y_pred)\n",
    "print('Mean absolute error: ', mae)\n",
    "\n",
    "# R2 score\n",
    "\n",
    "r2_score = r2_score(Y_test, Y_pred)\n",
    "print('R2 score: ', r2_score)"
   ],
   "id": "b6055e018332613e",
   "outputs": [
    {
     "name": "stdout",
     "output_type": "stream",
     "text": [
      "Mean squared error:  85.93289999999999\n",
      "Mean absolute error:  9.27\n",
      "R2 score:  nan\n"
     ]
    },
    {
     "name": "stderr",
     "output_type": "stream",
     "text": [
      "D:\\Machine Learning\\linear_regression\\.venv\\Lib\\site-packages\\sklearn\\metrics\\_regression.py:1266: UndefinedMetricWarning: R^2 score is not well-defined with less than two samples.\n",
      "  warnings.warn(msg, UndefinedMetricWarning)\n"
     ]
    }
   ],
   "execution_count": 28
  },
  {
   "metadata": {},
   "cell_type": "markdown",
   "source": "t# Ví dụ A3",
   "id": "ae4bc25b27edb78e"
  },
  {
   "metadata": {
    "ExecuteTime": {
     "end_time": "2025-02-24T02:30:32.086652Z",
     "start_time": "2025-02-24T02:30:32.043399Z"
    }
   },
   "cell_type": "code",
   "source": [
    "import numpy as np\n",
    "import math\n",
    "\n",
    "# Read data from file\n",
    "with open('D:\\\\Machine Learning\\\\linear_regression\\\\data\\\\fuel.txt') as f:\n",
    "    lines = f.readlines()\n",
    "\n",
    "x_data = []\n",
    "y_data = []\n",
    "\n",
    "lines.pop(0)\n",
    "\n",
    "# Split data by comma and convert to float\n",
    "for line in lines:\n",
    "    splitted = line.replace('\\n', '').split(',')\n",
    "    splitted.pop(0)\n",
    "    splitted = list(map(float, splitted))\n",
    "    fuel = 1000 * splitted[1] / splitted[5]\n",
    "    dlic = 1000 * splitted[0] / splitted[5]\n",
    "\n",
    "    logMiles = math.log(splitted[3])\n",
    "\n",
    "    y_data.append([fuel])\n",
    "    x_data.append([splitted[1], dlic, splitted[2], logMiles])\n",
    "\n",
    "\n",
    "# Convert to numpy array\n",
    "x_data = np.array(x_data)\n",
    "y_data = np.array(y_data)\n",
    "\n",
    "# # Visualize data\n",
    "# plt.scatter(x_data, y_data)\n",
    "# plt.xlabel('Distance')\n",
    "# plt.ylabel('Fuel')\n",
    "# plt.show()\n"
   ],
   "id": "8be9e37358e2b986",
   "outputs": [
    {
     "ename": "NameError",
     "evalue": "name 'plt' is not defined",
     "output_type": "error",
     "traceback": [
      "\u001B[1;31m---------------------------------------------------------------------------\u001B[0m",
      "\u001B[1;31mNameError\u001B[0m                                 Traceback (most recent call last)",
      "Cell \u001B[1;32mIn[12], line 32\u001B[0m\n\u001B[0;32m     29\u001B[0m y_data \u001B[38;5;241m=\u001B[39m np\u001B[38;5;241m.\u001B[39marray(y_data)\n\u001B[0;32m     31\u001B[0m \u001B[38;5;66;03m# Visualize data\u001B[39;00m\n\u001B[1;32m---> 32\u001B[0m \u001B[43mplt\u001B[49m\u001B[38;5;241m.\u001B[39mscatter(x_data, y_data)\n\u001B[0;32m     33\u001B[0m plt\u001B[38;5;241m.\u001B[39mxlabel(\u001B[38;5;124m'\u001B[39m\u001B[38;5;124mDistance\u001B[39m\u001B[38;5;124m'\u001B[39m)\n\u001B[0;32m     34\u001B[0m plt\u001B[38;5;241m.\u001B[39mylabel(\u001B[38;5;124m'\u001B[39m\u001B[38;5;124mFuel\u001B[39m\u001B[38;5;124m'\u001B[39m)\n",
      "\u001B[1;31mNameError\u001B[0m: name 'plt' is not defined"
     ]
    }
   ],
   "execution_count": 12
  },
  {
   "metadata": {
    "ExecuteTime": {
     "end_time": "2025-02-24T02:27:36.710067Z",
     "start_time": "2025-02-24T02:27:36.693183Z"
    }
   },
   "cell_type": "code",
   "source": [
    "# K-NN\n",
    "\n",
    "k = 6\n",
    "\n",
    "\n",
    "\n",
    "def distance(array, value):\n",
    "    array = np.array(array)\n",
    "    return np.linalg.norm(array - value, ord= 2, axis= 0)\n",
    "\n",
    "\n",
    "def find_nearest_index(array, value, k):\n",
    "    array_D = distance(array, value)\n",
    "\n",
    "    return np.argsort(array_D)[:k]\n",
    "\n",
    "\n",
    "data_len = len(x_data)\n",
    "\n",
    "X_train = np.array(x_data[:40])\n",
    "Y_train = np.array(y_data[:40])\n",
    "\n",
    "X_test = np.array(x_data[40:data_len])\n",
    "Y_test = np.array(y_data[40:data_len])\n",
    "\n",
    "Y_pred = np.zeros(len(X_test))\n",
    "\n",
    "for i in range(len(X_test)):\n",
    "    indexis = find_nearest_index(X_train, X_test[i], k)\n",
    "    for id in indexis:\n",
    "        Y_pred[i] += Y_train[id]\n",
    "    Y_pred[i] = Y_pred[i] / len(indexis)\n",
    "    print(Y_pred[i], '|', Y_test[i])\n"
   ],
   "id": "4864f3bf0c7e74e5",
   "outputs": [
    {
     "name": "stdout",
     "output_type": "stream",
     "text": [
      "620.3278448859403 | [711.73305769]\n",
      "620.3278448859403 | [697.05277706]\n",
      "620.3278448859403 | [638.23106095]\n",
      "620.3278448859403 | [681.10013659]\n",
      "620.3278448859403 | [591.49994589]\n",
      "620.3278448859403 | [691.02271186]\n",
      "620.3278448859403 | [681.03112144]\n",
      "620.3278448859403 | [576.06974956]\n",
      "620.3278448859403 | [562.4109333]\n",
      "620.3278448859403 | [581.79371695]\n",
      "620.3278448859403 | [842.79175243]\n"
     ]
    },
    {
     "name": "stderr",
     "output_type": "stream",
     "text": [
      "C:\\Users\\Admin\\AppData\\Local\\Temp\\ipykernel_17204\\3729922199.py:31: DeprecationWarning: Conversion of an array with ndim > 0 to a scalar is deprecated, and will error in future. Ensure you extract a single element from your array before performing this operation. (Deprecated NumPy 1.25.)\n",
      "  Y_pred[i] += Y_train[id]\n"
     ]
    }
   ],
   "execution_count": 7
  },
  {
   "metadata": {
    "ExecuteTime": {
     "end_time": "2025-02-24T02:27:48.096733Z",
     "start_time": "2025-02-24T02:27:44.809097Z"
    }
   },
   "cell_type": "code",
   "source": [
    "# Đánh giá mô hình\n",
    "\n",
    "from sklearn.metrics import mean_squared_error, mean_absolute_error, r2_score\n",
    "\n",
    "# Mean squared error\n",
    "mse = mean_squared_error(Y_test, Y_pred)\n",
    "print('Mean squared error: ', mse)\n",
    "\n",
    "# Mean absolute error\n",
    "\n",
    "mae = mean_absolute_error(Y_test, Y_pred)\n",
    "print('Mean absolute error: ', mae)\n",
    "# R2 score\n",
    "\n",
    "r2_score = r2_score(Y_test, Y_pred)\n",
    "print('R2 score: ', r2_score)"
   ],
   "id": "900b5da1df608fef",
   "outputs": [
    {
     "name": "stdout",
     "output_type": "stream",
     "text": [
      "Mean squared error:  7641.5764831541455\n",
      "Mean absolute error:  70.01861251545087\n",
      "R2 score:  -0.25160320573654027\n"
     ]
    }
   ],
   "execution_count": 8
  },
  {
   "metadata": {},
   "cell_type": "markdown",
   "source": [
    "# B. PHƯƠNG PHÁP HỒI QUY TUYẾN TÍNH\n",
    "## Ví dụ B.1"
   ],
   "id": "3cf90a9907c01f92"
  },
  {
   "metadata": {
    "ExecuteTime": {
     "end_time": "2025-02-24T12:29:27.185369Z",
     "start_time": "2025-02-24T12:29:27.042330Z"
    }
   },
   "cell_type": "code",
   "source": [
    "# Khoi tao du lieu\n",
    "\n",
    "from __future__ import division, print_function, unicode_literals\n",
    "import numpy as np\n",
    "import matplotlib.pyplot as plt\n",
    "# Temp (F degree)\n",
    "X = np.array([[194.5, 194.3, 197.9, 198.4, 199.4, 199.9, 200.9, 201.1, 201.4, 201.3, 203.6, 204.6, 209.5, 208.6, 210.7, 211.9, 212.2]]).T\n",
    "# Press (Atm)\n",
    "y = np.array([[20.79,20.79,22.4,22.67,23.15,23.35,23.89,23.99,24.02,24.01,25.14,26.57,28.49,27.76,29.04,29.88,30.06]]).T\n",
    "\n",
    "# Building XBar\n",
    "one = np.ones((X.shape[0], 1))\n",
    "XBar = np.concatenate((one, X), axis = 1)\n",
    "\n",
    "# Calculating weights of the fitting line\n",
    "A = np.dot(XBar.T, XBar)\n",
    "b = np.dot(XBar.T, y)\n",
    "w = np.dot(np.linalg.pinv(A), b)\n",
    "print('w = ', w)\n",
    "\n",
    "# Preparing the fitting line\n",
    "\n",
    "w_0 = w[0][0]\n",
    "w_1 = w[1][0]\n",
    "x0 = np.linspace(193, 213, 2)\n",
    "y0 = w_0 + w_1*x0\n",
    "\n",
    "# Drawing the fitting line\n",
    "plt.plot(X.T, y.T, 'ro')     # data\n",
    "plt.plot(x0, y0)               # the fitting line\n",
    "plt.axis([193, 213, 19, 31])\n",
    "plt.xlabel('Temperature (F)')\n",
    "plt.ylabel('Pressure (Atm)')\n",
    "plt.show()\n"
   ],
   "id": "81a25fa5e53cb7f6",
   "outputs": [
    {
     "name": "stdout",
     "output_type": "stream",
     "text": [
      "w =  [[-81.06372713]\n",
      " [  0.5228924 ]]\n"
     ]
    },
    {
     "data": {
      "text/plain": [
       "<Figure size 640x480 with 1 Axes>"
      ],
      "image/png": "[encoded data removed]"
     },
     "metadata": {},
     "output_type": "display_data"
    }
   ],
   "execution_count": 4
  },
  {
   "metadata": {},
   "cell_type": "markdown",
   "source": "## Ví dụ B.2\n",
   "id": "8a7aca0fce5fbdb1"
  },
  {
   "metadata": {
    "ExecuteTime": {
     "end_time": "2025-02-25T15:58:11.871324Z",
     "start_time": "2025-02-25T15:58:11.859155Z"
    }
   },
   "cell_type": "code",
   "source": [
    "# Khoi tao du lieu\n",
    "\n",
    "import math\n",
    "import numpy as np\n",
    "with open('D:\\\\Machine Learning\\\\linear_regression\\\\data\\\\fuel.txt') as f:\n",
    "    lines = f.readlines()\n",
    "\n",
    "x_data = []\n",
    "y_data = []\n",
    "lines.pop(0)\n",
    "\n",
    "for line in lines:\n",
    "    splitted = line.replace('\\n', '').split(',')\n",
    "    splitted.pop(0)\n",
    "    splitted = list(map(float, splitted))\n",
    "    fuel = 1000 * splitted[1] / splitted[5]\n",
    "    dlic = 1000 * splitted[0] / splitted[5]\n",
    "    logMiles = math.log2(splitted[3])\n",
    "    y_data.append([fuel])\n",
    "    x_data.append([splitted[-1], dlic, splitted[2], logMiles])\n",
    "\n",
    "x_data = np.asarray(x_data)\n",
    "y_data = np.asarray(y_data)\n",
    "\n",
    "data_len = len(x_data)\n",
    "\n",
    "x_data_train = x_data[:40]\n",
    "y_data_train = y_data[:40]\n",
    "\n",
    "x_data_test = x_data[40:data_len]\n",
    "y_data_test = y_data[40:data_len]\n"
   ],
   "id": "a69672c76caad0cc",
   "outputs": [
    {
     "name": "stdout",
     "output_type": "stream",
     "text": [
      "[[1.00000000e+00 1.80000000e+01 1.03138007e+03 2.34710000e+04\n",
      "  1.65271104e+01]\n",
      " [1.00000000e+00 8.00000000e+00 1.03164106e+03 3.00640000e+04\n",
      "  1.37342862e+01]\n",
      " [1.00000000e+00 1.80000000e+01 9.08597153e+02 2.55780000e+04\n",
      "  1.57535563e+01]\n",
      " [1.00000000e+00 2.17000000e+01 9.46570576e+02 2.22570000e+04\n",
      "  1.65824360e+01]\n",
      " [1.00000000e+00 1.80000000e+01 8.44703336e+02 3.22750000e+04\n",
      "  1.73647075e+01]\n",
      " [1.00000000e+00 2.20000000e+01 9.89606180e+02 3.29490000e+04\n",
      "  1.63895977e+01]\n",
      " [1.00000000e+00 2.50000000e+01 9.99593430e+02 4.06400000e+04\n",
      "  1.43519054e+01]\n",
      " [1.00000000e+00 2.30000000e+01 9.24344838e+02 3.12550000e+04\n",
      "  1.25053154e+01]\n",
      " [1.00000000e+00 2.00000000e+01 7.00195273e+02 3.73830000e+04\n",
      "  1.05830828e+01]\n",
      " [1.00000000e+00 1.36000000e+01 1.00012416e+03 2.81450000e+04\n",
      "  1.68398312e+01]\n",
      " [1.00000000e+00 7.50000000e+00 9.33302595e+02 2.79400000e+04\n",
      "  1.68179580e+01]\n",
      " [1.00000000e+00 1.60000000e+01 8.29997134e+02 2.82210000e+04\n",
      "  1.20627208e+01]\n",
      " [1.00000000e+00 2.50000000e+01 9.25193414e+02 2.41800000e+04\n",
      "  1.54990361e+01]\n",
      " [1.00000000e+00 1.90000000e+01 8.19436731e+02 3.22590000e+04\n",
      "  1.70780570e+01]\n",
      " [1.00000000e+00 1.50000000e+01 8.79235228e+02 2.70110000e+04\n",
      "  1.65209562e+01]\n",
      " [1.00000000e+00 2.00000000e+01 8.67490690e+02 2.67230000e+04\n",
      "  1.67915318e+01]\n",
      " [1.00000000e+00 2.10000000e+01 9.09065339e+02 2.78160000e+04\n",
      "  1.70396581e+01]\n",
      " [1.00000000e+00 1.64000000e+01 8.71998489e+02 2.42940000e+04\n",
      "  1.62679936e+01]\n",
      " [1.00000000e+00 2.00000000e+01 8.00685096e+02 2.33340000e+04\n",
      "  1.58924717e+01]\n",
      " [1.00000000e+00 2.20000000e+01 9.32971583e+02 2.56230000e+04\n",
      "  1.44686240e+01]\n",
      " [1.00000000e+00 2.35000000e+01 8.44963775e+02 3.38720000e+04\n",
      "  1.49022809e+01]\n",
      " [1.00000000e+00 2.10000000e+01 9.20658857e+02 3.79920000e+04\n",
      "  1.51117877e+01]\n",
      " [1.00000000e+00 1.90000000e+01 9.14633785e+02 2.96120000e+04\n",
      "  1.68940362e+01]\n",
      " [1.00000000e+00 2.00000000e+01 7.82812386e+02 3.21010000e+04\n",
      "  1.70132354e+01]\n",
      " [1.00000000e+00 1.84000000e+01 8.60807855e+02 2.09930000e+04\n",
      "  1.61693966e+01]\n",
      " [1.00000000e+00 1.70000000e+01 8.99846814e+02 2.74450000e+04\n",
      "  1.69237453e+01]\n",
      " [1.00000000e+00 2.70000000e+01 9.74235233e+02 2.25690000e+04\n",
      "  1.60847876e+01]\n",
      " [1.00000000e+00 2.45000000e+01 9.63733123e+02 2.78290000e+04\n",
      "  1.65013085e+01]\n",
      " [1.00000000e+00 2.47500000e+01 9.23803690e+02 3.05290000e+04\n",
      "  1.52384794e+01]\n",
      " [1.00000000e+00 1.95000000e+01 9.80466233e+02 3.33320000e+04\n",
      "  1.39207250e+01]\n",
      " [1.00000000e+00 1.05000000e+01 8.73136402e+02 3.69830000e+04\n",
      "  1.51427054e+01]\n",
      " [1.00000000e+00 1.85000000e+01 8.98963897e+02 2.22030000e+04\n",
      "  1.58698589e+01]\n",
      " [1.00000000e+00 2.20000000e+01 7.44380185e+02 3.45470000e+04\n",
      "  1.67854652e+01]\n",
      " [1.00000000e+00 2.41000000e+01 9.35380824e+02 2.71940000e+04\n",
      "  1.66267785e+01]\n",
      " [1.00000000e+00 2.10000000e+01 9.07890859e+02 2.50680000e+04\n",
      "  1.64019295e+01]\n",
      " [1.00000000e+00 2.20000000e+01 8.80151157e+02 2.84000000e+04\n",
      "  1.68394376e+01]\n",
      " [1.00000000e+00 1.70000000e+01 8.14861855e+02 2.35170000e+04\n",
      "  1.67820512e+01]\n",
      " [1.00000000e+00 2.40000000e+01 9.48071716e+02 2.83500000e+04\n",
      "  1.60272149e+01]\n",
      " [1.00000000e+00 2.60000000e+01 8.48588099e+02 2.95390000e+04\n",
      "  1.68724945e+01]\n",
      " [1.00000000e+00 2.90000000e+01 7.98133839e+02 2.96850000e+04\n",
      "  1.25634346e+01]]\n"
     ]
    }
   ],
   "execution_count": 32
  },
  {
   "metadata": {
    "ExecuteTime": {
     "end_time": "2025-02-24T12:55:55.937113Z",
     "start_time": "2025-02-24T12:55:55.926810Z"
    }
   },
   "cell_type": "code",
   "source": [
    "# Dung thuat toán HoldHouse để triển khai QR\n",
    "# Use numpy\n",
    "\n",
    "def qr_householder(A):\n",
    "    #\"\"\" Compute QR decomposition of A using Householder reflection\"\"\"\n",
    "    M = A.shape[0]\n",
    "    N = A.shape[1]\n",
    "\n",
    "    # set Q to the identity matrix\n",
    "    Q = np.identity(M)\n",
    "\n",
    "    # set R to zero matrix\n",
    "    R = np.copy(A)\n",
    "\n",
    "    for n in range(N):\n",
    "        # vector to transform\n",
    "        x = A[n:, n]\n",
    "        k = x.shape[0]\n",
    "\n",
    "        # compute ro=-sign(x0)||x||\n",
    "        ro = -np.sign(x[0]) * np.linalg.norm(x)\n",
    "\n",
    "        # compute the householder vector v\n",
    "        e = np.zeros(k)\n",
    "        e[0] = 1\n",
    "        v = (1 / (x[0] - ro)) * (x - (ro * e))\n",
    "\n",
    "        # apply v to each column of A to find R\n",
    "        for i in range(n, N):\n",
    "            R[n:, i] = R[n:, i] - (2 / (v@v)) * ((np.outer(v, v)) @ R[n:, i])\n",
    "\n",
    "        # apply v to each column of Q\n",
    "        for i in range(M):\n",
    "            Q[n:, i] = Q[n:, i] - (2 / (v@v)) * ((np.outer(v, v)) @ Q[n:, i])\n",
    "\n",
    "    return Q.transpose(), R"
   ],
   "id": "1b44e51d2f4beb07",
   "outputs": [],
   "execution_count": 14
  },
  {
   "metadata": {
    "ExecuteTime": {
     "end_time": "2025-02-24T12:57:27.872759Z",
     "start_time": "2025-02-24T12:57:27.860968Z"
    }
   },
   "cell_type": "code",
   "source": [
    "# ham hoi quy tuyen tinh\n",
    "\n",
    "def linear_regression(x_data, y_data):\n",
    "# This function calculate linear regression base on x_data and y_data\n",
    "# :param x_data: vector\n",
    "# :param y_data: vector\n",
    "# :return: w (regression estimate)\n",
    "    # add column 1\n",
    "    x_bars = np.concatenate((np.ones((x_data.shape[0], 1)), x_data), axis=1)\n",
    "\n",
    "    Q, R = qr_householder(x_bars) # QR decomposition\n",
    "    R_pinv = np.linalg.pinv(R) # Pseudo inverse of R\n",
    "    A = np.dot(R_pinv, Q.T) # A = R^(-1)Q^T\n",
    "\n",
    "    return np.dot(A, y_data)\n",
    "\n",
    "w = linear_regression(x_data, y_data) # get result\n",
    "w = w.T.tolist()\n",
    "\n",
    "line = ['Intercept', 'Tax', \"Dlic\", \"Income\", 'LogMiles']\n",
    "res = list(zip(line, w[0]))\n",
    "\n",
    "for o in res:\n",
    "    print(\"{: >20}: {: >10}\".format(*o))\n",
    "\n"
   ],
   "id": "1619c82628e79ccc",
   "outputs": [
    {
     "name": "stdout",
     "output_type": "stream",
     "text": [
      "           Intercept: 207.32210060259192\n",
      "                 Tax: -4.553438140493977\n",
      "                Dlic: 0.45831308505905033\n",
      "              Income: -0.006107270970864586\n",
      "            LogMiles: 16.315092361051857\n"
     ]
    }
   ],
   "execution_count": 19
  },
  {
   "metadata": {
    "ExecuteTime": {
     "end_time": "2025-02-25T15:58:25.654093Z",
     "start_time": "2025-02-25T15:58:25.635412Z"
    }
   },
   "cell_type": "code",
   "source": [
    "# use library sklearn\n",
    "from sklearn import datasets, linear_model\n",
    "\n",
    "# Load training data here and assign to Xbar (obs. Data) and y (label)\n",
    "# fit the model by Linear Regression\n",
    "regr = linear_model.LinearRegression(fit_intercept=False)\n",
    "# fit_intercept = False for calculating the bias\n",
    "regr.fit(x_data_train, y_data_train)\n",
    "\n",
    "# Compare two results\n",
    "print('Solution found by scikit-learn  : ', regr.coef_)"
   ],
   "id": "6c13c0ae12a7659c",
   "outputs": [
    {
     "name": "stdout",
     "output_type": "stream",
     "text": [
      "Solution found by scikit-learn  :  [[ 1.35142023e+02 -1.90301193e+00  4.18592399e-01 -6.22943009e-03\n",
      "   1.95938559e+01]]\n"
     ]
    }
   ],
   "execution_count": 33
  },
  {
   "metadata": {
    "ExecuteTime": {
     "end_time": "2025-02-25T16:06:49.994491Z",
     "start_time": "2025-02-25T16:06:49.989183Z"
    }
   },
   "cell_type": "code",
   "source": [
    "from sklearn.metrics import mean_squared_error, mean_absolute_error, r2_score\n",
    "\n",
    "def evaluate_model(y_true, y_pred):\n",
    "    mse = mean_squared_error(y_true, y_pred)\n",
    "    mae = mean_absolute_error(y_true, y_pred)\n",
    "    r2 = r2_score(y_true, y_pred)\n",
    "    return mse, mae, r2"
   ],
   "id": "a5f2aa4b868ec82e",
   "outputs": [],
   "execution_count": 38
  },
  {
   "metadata": {
    "ExecuteTime": {
     "end_time": "2025-02-25T16:15:02.098293Z",
     "start_time": "2025-02-25T16:15:02.081605Z"
    }
   },
   "cell_type": "code",
   "source": [
    "# Danh gia mo hinh\n",
    "\n",
    "# Using numpy\n",
    "\n",
    "w_train_numpy = linear_regression(x_data_train, y_data_train)\n",
    "w_test_numpy = linear_regression(x_data_test, y_data_test)\n",
    "y_train_pred_numpy = np.dot(np.concatenate((np.ones((x_data_train.shape[0], 1)), x_data_train), axis=1), w_train_numpy)\n",
    "y_test_pred_numpy = np.dot(np.concatenate((np.ones((x_data_test.shape[0], 1)), x_data_test), axis=1), w_test_numpy)\n",
    "\n",
    "mse_train_numpy, mae_train_numpy, r2_train_numpy = evaluate_model(y_data_train, y_train_pred_numpy)\n",
    "mse_test_numpy, mae_test_numpy, r2_test_numpy = evaluate_model(y_data_test, y_test_pred_numpy)\n",
    "\n",
    "print('Numpy')\n",
    "# Data Train\n",
    "print('Mean squared error (train): ', mse_train_numpy)\n",
    "print('Mean absolute error (train): ', mae_train_numpy)\n",
    "print('R2 score (train): ', r2_train_numpy)\n",
    "# Data Test\n",
    "print('Mean squared error (test): ', mse_test_numpy)\n",
    "print('Mean absolute error (test): ', mae_test_numpy)\n",
    "print('R2 score (test): ', r2_test_numpy)\n",
    "\n"
   ],
   "id": "61b4d5f727cbe235",
   "outputs": [
    {
     "name": "stdout",
     "output_type": "stream",
     "text": [
      "Numpy\n",
      "Mean squared error (train):  3354.3511241803126\n",
      "Mean absolute error (train):  44.09505389719993\n",
      "R2 score (train):  0.5502774879330957\n",
      "Mean squared error (test):  1326.894780569824\n",
      "Mean absolute error (test):  29.75553539099477\n",
      "R2 score (test):  0.7826697456084633\n"
     ]
    }
   ],
   "execution_count": 41
  },
  {
   "metadata": {
    "ExecuteTime": {
     "end_time": "2025-02-25T16:16:15.499359Z",
     "start_time": "2025-02-25T16:16:15.487302Z"
    }
   },
   "cell_type": "code",
   "source": [
    "# Using sklearn\n",
    "\n",
    "regr_train = linear_model.LinearRegression(fit_intercept=False)\n",
    "regr_train.fit(x_data_train, y_data_train)\n",
    "\n",
    "regr_test = linear_model.LinearRegression(fit_intercept=False)\n",
    "regr_test.fit(x_data_test, y_data_test)\n",
    "\n",
    "y_train_pred_sklearn = regr_train.predict(x_data_train)\n",
    "y_test_pred_sklearn = regr_test.predict(x_data_test)\n",
    "\n",
    "mse_train_sklearn, mae_train_sklearn, r2_train_sklearn = evaluate_model(y_data_train, y_train_pred_sklearn)\n",
    "mse_test_sklearn, mae_test_sklearn, r2_test_sklearn = evaluate_model(y_data_test, y_test_pred_sklearn)\n",
    "\n",
    "print('Sklearn')\n",
    "# Data Train\n",
    "print('Mean squared error (train): ', mse_train_sklearn)\n",
    "print('Mean absolute error (train): ', mae_train_sklearn)\n",
    "print('R2 score (train): ', r2_train_sklearn)\n",
    "# Data Test\n",
    "print('Mean squared error (test): ', mse_test_sklearn)\n",
    "print('Mean absolute error (test): ', mae_test_sklearn)\n",
    "print('R2 score (test): ', r2_test_sklearn)\n"
   ],
   "id": "678bf5af745a448d",
   "outputs": [
    {
     "name": "stdout",
     "output_type": "stream",
     "text": [
      "Sklearn\n",
      "Mean squared error (train):  3344.7857641120872\n",
      "Mean absolute error (train):  44.20973618833856\n",
      "R2 score (train):  0.5515599290370389\n",
      "Mean squared error (test):  1421.245767852726\n",
      "Mean absolute error (test):  29.509187005077603\n",
      "R2 score (test):  0.7672161283597166\n"
     ]
    }
   ],
   "execution_count": 42
  },
  {
   "metadata": {},
   "cell_type": "markdown",
   "source": [
    "# Bai tap tu thuc hanh\n",
    "## Vi du B.3"
   ],
   "id": "3836ce41098efa19"
  },
  {
   "metadata": {
    "ExecuteTime": {
     "end_time": "2025-02-25T16:31:53.969614Z",
     "start_time": "2025-02-25T16:31:53.961448Z"
    }
   },
   "cell_type": "code",
   "source": [
    "import numpy as np\n",
    "import pandas as pd\n",
    "import matplotlib.pyplot as plt\n",
    "from sklearn.linear_model import LinearRegression\n",
    "from sklearn.metrics import mean_squared_error, mean_absolute_error, r2_score\n",
    "from sklearn.neighbors import KNeighborsRegressor\n",
    "\n",
    "# load the data\n",
    "\n",
    "data = pd.read_csv('D:\\\\Machine Learning\\\\linear_regression\\\\data\\\\SAT_GPA.csv')\n",
    "x = data['SAT'].values.reshape(-1, 1)\n",
    "y = data['GPA'].values.reshape(-1, 1)\n",
    "\n",
    "# reshape the data\n",
    "pearson_corr = np.corrcoef(data['SAT'], data['GPA'])[0, 1]\n",
    "print(f'Pearson Correlation Coefficient: {pearson_corr}')\n",
    "\n",
    "# split the data into training and testing data\n",
    "x_train = np.array(x[:64])\n",
    "y_train = np.array(y[:64])\n",
    "\n",
    "x_test = np.array(x[64:])\n",
    "y_test = np.array(y[64:])\n",
    "\n",
    "print(y_train)"
   ],
   "id": "8682d06dcf8bf940",
   "outputs": [
    {
     "name": "stdout",
     "output_type": "stream",
     "text": [
      "Pearson Correlation Coefficient: 0.6371843648401915\n",
      "[[2.4 ]\n",
      " [2.52]\n",
      " [2.54]\n",
      " [2.74]\n",
      " [2.83]\n",
      " [2.91]\n",
      " [3.  ]\n",
      " [3.  ]\n",
      " [3.01]\n",
      " [3.01]\n",
      " [3.02]\n",
      " [3.07]\n",
      " [3.08]\n",
      " [3.08]\n",
      " [3.12]\n",
      " [3.17]\n",
      " [3.17]\n",
      " [3.17]\n",
      " [3.17]\n",
      " [3.19]\n",
      " [3.19]\n",
      " [3.19]\n",
      " [3.2 ]\n",
      " [3.21]\n",
      " [3.24]\n",
      " [3.28]\n",
      " [3.28]\n",
      " [3.28]\n",
      " [3.28]\n",
      " [3.28]\n",
      " [3.28]\n",
      " [3.28]\n",
      " [3.29]\n",
      " [3.29]\n",
      " [3.29]\n",
      " [3.31]\n",
      " [3.32]\n",
      " [3.34]\n",
      " [3.37]\n",
      " [3.37]\n",
      " [3.37]\n",
      " [3.38]\n",
      " [3.38]\n",
      " [3.39]\n",
      " [3.39]\n",
      " [3.4 ]\n",
      " [3.4 ]\n",
      " [3.4 ]\n",
      " [3.41]\n",
      " [3.41]\n",
      " [3.41]\n",
      " [3.42]\n",
      " [3.42]\n",
      " [3.42]\n",
      " [3.44]\n",
      " [3.47]\n",
      " [3.47]\n",
      " [3.47]\n",
      " [3.47]\n",
      " [3.48]\n",
      " [3.49]\n",
      " [3.49]\n",
      " [3.5 ]\n",
      " [3.51]]\n"
     ]
    }
   ],
   "execution_count": 57
  },
  {
   "metadata": {
    "ExecuteTime": {
     "end_time": "2025-02-25T16:31:56.201766Z",
     "start_time": "2025-02-25T16:31:56.192393Z"
    }
   },
   "cell_type": "code",
   "source": [
    "# Linear Regression\n",
    "\n",
    "model = LinearRegression()\n",
    "model.fit(x_train, y_train)\n",
    "\n",
    "t_0 = model.intercept_\n",
    "t_1 = model.coef_[0]\n",
    "\n",
    "print(f'Intercept (t_0): {t_0}')\n",
    "print(f'Coefficient (t_1): {t_1}')"
   ],
   "id": "f3472c5e29166265",
   "outputs": [
    {
     "name": "stdout",
     "output_type": "stream",
     "text": [
      "Intercept (t_0): [0.83820976]\n",
      "Coefficient (t_1): [0.00131839]\n"
     ]
    }
   ],
   "execution_count": 58
  },
  {
   "metadata": {
    "ExecuteTime": {
     "end_time": "2025-02-25T16:31:58.881618Z",
     "start_time": "2025-02-25T16:31:58.724832Z"
    }
   },
   "cell_type": "code",
   "source": [
    "# Plot the regression line with training data\n",
    "plt.scatter(x_train, y_train, label='Training data')\n",
    "yhat_train = t_1 * x_train + t_0\n",
    "plt.plot(x_train, yhat_train, lw=4, c='orange', label='Regression line')\n",
    "plt.xlabel('SAT', fontsize=20)\n",
    "plt.ylabel('GPA', fontsize=20)\n",
    "plt.legend()\n",
    "plt.show()"
   ],
   "id": "9982c0d29b3d25e5",
   "outputs": [
    {
     "data": {
      "text/plain": [
       "<Figure size 640x480 with 1 Axes>"
      ],
      "image/png": "[encoded data removed]"
     },
     "metadata": {},
     "output_type": "display_data"
    }
   ],
   "execution_count": 59
  },
  {
   "metadata": {
    "ExecuteTime": {
     "end_time": "2025-02-25T16:34:03.144143Z",
     "start_time": "2025-02-25T16:34:03.136053Z"
    }
   },
   "cell_type": "code",
   "source": [
    "# Evaluate the model with validation data\n",
    "y_pred = model.predict(x_test)\n",
    "mse = mean_squared_error(y_test, y_pred)\n",
    "mae = mean_absolute_error(y_test, y_pred)\n",
    "r2 = r2_score(y_test, y_pred)\n",
    "print(f'MSE: {mse}')\n",
    "print(f'MAE: {mae}')\n",
    "print(f'R-squared: {r2}')"
   ],
   "id": "c898b0f7b60b8748",
   "outputs": [
    {
     "name": "stdout",
     "output_type": "stream",
     "text": [
      "MSE: 0.07263824293181359\n",
      "MAE: 0.24880371695218736\n",
      "R-squared: -9.667975169894788\n"
     ]
    }
   ],
   "execution_count": 60
  },
  {
   "metadata": {
    "ExecuteTime": {
     "end_time": "2025-02-25T16:36:24.702798Z",
     "start_time": "2025-02-25T16:36:24.684895Z"
    }
   },
   "cell_type": "code",
   "source": [
    "# K-NN\n",
    "knn_model = KNeighborsRegressor(n_neighbors=8)\n",
    "knn_model.fit(x_train, y_train)\n",
    "yhat_knn = knn_model.predict(x_test)\n",
    "mse_knn = mean_squared_error(y_test, yhat_knn)\n",
    "mae_knn = mean_absolute_error(y_test, yhat_knn)\n",
    "r2_knn = r2_score(y_test, yhat_knn)\n",
    "print(f'K-NN MSE: {mse_knn}')\n",
    "print(f'K-NN MAE: {mae_knn}')\n",
    "print(f'K-NN R-squared: {r2_knn}')"
   ],
   "id": "98c7513ae168ed31",
   "outputs": [
    {
     "name": "stdout",
     "output_type": "stream",
     "text": [
      "K-NN MSE: 0.08137789062499998\n",
      "K-NN MAE: 0.2711875\n",
      "K-NN R-squared: -10.951518670142459\n"
     ]
    }
   ],
   "execution_count": 61
  },
  {
   "metadata": {},
   "cell_type": "markdown",
   "source": "## Vi du B.4",
   "id": "ca38f5519bee412e"
  },
  {
   "metadata": {
    "ExecuteTime": {
     "end_time": "2025-02-25T17:32:56.274231Z",
     "start_time": "2025-02-25T17:32:56.262030Z"
    }
   },
   "cell_type": "code",
   "source": [
    "import numpy as np\n",
    "import pandas as pd\n",
    "\n",
    "\n",
    "# load the data\n",
    "\n",
    "data = pd.read_csv('D:\\\\Machine Learning\\\\linear_regression\\\\data\\\\vidu4_lin_reg.txt', delim_whitespace=True)\n",
    "\n",
    "X = data[['TUOI', 'CHOLESTEROL', 'GLUCOSE', 'HA', 'BMI']].values\n",
    "y = data['BEDAYNTM'].values\n",
    "X = np.column_stack((np.ones(len(X)), X))\n",
    "\n",
    "B = np.linalg.inv(X.T @ X) @ (X.T @ y)\n",
    "print(\"B0 = {:.4f}, B1 = {:.4f}, B2 = {:.4f}, B3 = {:.4f}, B4 = {:.4f}, B5 = {:.4f}\".format(B[0], B[1], B[2], B[3], B[4], B[5]))\n",
    "\n",
    "# split the data into training and testing data\n",
    "\n",
    "data_train = data.iloc[:80]\n",
    "data_test = data.iloc[80:]\n",
    "\n",
    "X_train = data_train[['TUOI', 'CHOLESTEROL', 'GLUCOSE', 'HA', 'BMI']].values\n",
    "Y_train = data_train['BEDAYNTM'].values\n",
    "\n",
    "X_train = np.column_stack((np.ones(len(X_train)), X_train))\n",
    "\n",
    "B_train = np.linalg.inv(X_train.T @ X_train) @ (X_train.T @ Y_train)\n",
    "\n",
    "\n",
    "X_test = data_test[['TUOI', 'CHOLESTEROL', 'GLUCOSE', 'HA', 'BMI']].values\n",
    "Y_test = data_test['BEDAYNTM'].values\n",
    "\n",
    "X_test = np.column_stack((np.ones(len(X_test)), X_test))\n",
    "\n",
    "Y_pred = X_test @ B_train\n",
    "print(\"Predicted values: \", Y_pred)\n"
   ],
   "id": "568197e9adb6cc7c",
   "outputs": [
    {
     "name": "stdout",
     "output_type": "stream",
     "text": [
      "B0 = -0.1080, B1 = 0.0099, B2 = 0.0385, B3 = 0.0077, B4 = 0.0022, B5 = -0.0002\n",
      "Predicted values:  [0.91012272 0.78452963 1.22339369 0.96085817 0.96836123 1.05009561\n",
      " 1.19694736 1.0521678  0.9936207  0.68503543 0.78429172 0.77109845\n",
      " 1.19748204 1.06844174 0.99721921 1.03380704 1.14558205 1.19228584\n",
      " 1.29236178 1.26252546]\n"
     ]
    },
    {
     "name": "stderr",
     "output_type": "stream",
     "text": [
      "C:\\Users\\Admin\\AppData\\Local\\Temp\\ipykernel_16212\\4259830718.py:7: FutureWarning: The 'delim_whitespace' keyword in pd.read_csv is deprecated and will be removed in a future version. Use ``sep='\\s+'`` instead\n",
      "  data = pd.read_csv('D:\\\\Machine Learning\\\\linear_regression\\\\data\\\\vidu4_lin_reg.txt', delim_whitespace=True)\n"
     ]
    }
   ],
   "execution_count": 70
  },
  {
   "metadata": {
    "ExecuteTime": {
     "end_time": "2025-02-25T17:33:03.231331Z",
     "start_time": "2025-02-25T17:33:03.226031Z"
    }
   },
   "cell_type": "code",
   "source": [
    "# residuals\n",
    "residuals = Y_test - Y_pred\n",
    "print(\"Residuals: \", residuals)\n",
    "\n",
    "# mean squared error\n",
    "mean = np.mean(residuals)\n",
    "\n",
    "# mean absolute error\n",
    "var = np.var(residuals, ddof=1)\n",
    "\n",
    "print(\"\\nTrên tập testing (20 mẫu):\")\n",
    "print(\"Sai số trung bình (E(e)) = {:.4f}\".format(mean))\n",
    "print(\"Phương sai của sai số (Var(e)) = {:.4f}\".format(var))\n"
   ],
   "id": "b23c8545fbaecda6",
   "outputs": [
    {
     "name": "stdout",
     "output_type": "stream",
     "text": [
      "Residuals:  [-0.11012272 -0.08452963 -0.22339369 -0.16085817 -0.07836123 -0.45009561\n",
      "  0.30305264 -0.3521678   0.1063793   0.12496457 -0.08429172 -0.06109845\n",
      "  1.50251796  0.06155826  0.70278079 -0.13380704  0.01441795 -0.19228584\n",
      " -0.32236178  1.03747454]\n",
      "\n",
      "Trên tập testing (20 mẫu):\n",
      "Sai số trung bình (E(e)) = 0.0800\n",
      "Phương sai của sai số (Var(e)) = 0.2326\n"
     ]
    }
   ],
   "execution_count": 71
  },
  {
   "metadata": {},
   "cell_type": "markdown",
   "source": "## Vi du B.5",
   "id": "6ffba95ee00e9b3d"
  },
  {
   "metadata": {
    "ExecuteTime": {
     "end_time": "2025-02-25T17:44:09.613982Z",
     "start_time": "2025-02-25T17:44:09.604606Z"
    }
   },
   "cell_type": "code",
   "source": [
    "import pandas as pd\n",
    "import numpy as np\n",
    "from sklearn.linear_model import LinearRegression\n",
    "from sklearn.neighbors import KNeighborsRegressor\n",
    "\n",
    "# load the data\n",
    "\n",
    "data = pd.read_csv('D:\\\\Machine Learning\\\\linear_regression\\\\data\\\\real_estate.csv')\n",
    "\n",
    "data['X1 transaction date'] = data['X1 transaction date'].astype(int)\n",
    "\n",
    "# split the data into training and testing data\n",
    "\n",
    "data_train = data.iloc[:350]\n",
    "data_test = data.iloc[350:, :]\n",
    "\n",
    "x_train = data_train[['X1 transaction date', 'X2 house age', 'X3 distance to the nearest MRT station', 'X4 number of convenience stores', 'X5 latitude', 'X6 longitude']].values\n",
    "y_train = data_train['Y house price of unit area'].values\n",
    "\n",
    "x_test = data_test[['X1 transaction date', 'X2 house age', 'X3 distance to the nearest MRT station', 'X4 number of convenience stores', 'X5 latitude', 'X6 longitude']].values\n",
    "y_test = data_test['Y house price of unit area'].values\n"
   ],
   "id": "1d0e0c431848ee4a",
   "outputs": [],
   "execution_count": 78
  },
  {
   "metadata": {
    "ExecuteTime": {
     "end_time": "2025-02-25T17:48:07.145813Z",
     "start_time": "2025-02-25T17:48:07.136756Z"
    }
   },
   "cell_type": "code",
   "source": [
    "# Linear Regression\n",
    "model = LinearRegression()\n",
    "\n",
    "model.fit(x_train, y_train)\n",
    "\n",
    "# predict the price of the house\n",
    "y_pred = model.predict(x_test)\n",
    "\n",
    "# Calculate the sum of squared errors (SSE)\n",
    "sse = np.sum((y_test - y_pred) ** 2)\n",
    "print(f'Sum of Squared Errors (SSE): {sse}')\n",
    "\n",
    "# Calculate the mean squared error (MSE)\n",
    "mse = np.mean((y_test - y_pred) ** 2)\n",
    "print(f'Mean Squared Error (MSE): {mse}')\n",
    "\n",
    "# Calculate the mean absolute error (MAE)\n",
    "mae = np.mean(np.abs(y_test - y_pred))\n",
    "print(f'Mean Absolute Error (MAE): {mae}')"
   ],
   "id": "b544080ac2385e3a",
   "outputs": [
    {
     "name": "stdout",
     "output_type": "stream",
     "text": [
      "Sum of Squared Errors (SSE): 4083.6448394273953\n",
      "Mean Squared Error (MSE): 63.80695061605305\n",
      "Mean Absolute Error (MAE): 6.0326047078456835\n"
     ]
    }
   ],
   "execution_count": 79
  },
  {
   "metadata": {
    "ExecuteTime": {
     "end_time": "2025-02-25T17:48:14.838877Z",
     "start_time": "2025-02-25T17:48:14.830083Z"
    }
   },
   "cell_type": "code",
   "source": [
    "# K-NN\n",
    "\n",
    "knn_model = KNeighborsRegressor(n_neighbors= 18)\n",
    "knn_model.fit(x_train, y_train)\n",
    "\n",
    "# predict the price of the house\n",
    "y_pred_knn = knn_model.predict(x_test)\n",
    "\n",
    "# Calculate the sum of squared errors (SSE)\n",
    "sse_knn = np.sum((y_test - y_pred_knn) ** 2)\n",
    "print(f'K-NN Sum of Squared Errors (SSE): {sse_knn}')\n",
    "\n",
    "# Calculate the mean squared error (MSE)\n",
    "mse_knn = np.mean((y_test - y_pred_knn) ** 2)\n",
    "print(f'K-NN Mean Squared Error (MSE): {mse_knn}')\n",
    "\n",
    "# Calculate the mean absolute error (MAE)\n",
    "mae_knn = np.mean(np.abs(y_test - y_pred_knn))\n",
    "print(f'K-NN Mean Absolute Error (MAE): {mae_knn}')"
   ],
   "id": "c09f8243d721ad08",
   "outputs": [
    {
     "name": "stdout",
     "output_type": "stream",
     "text": [
      "K-NN Sum of Squared Errors (SSE): 2822.536574074074\n",
      "K-NN Mean Squared Error (MSE): 44.102133969907406\n",
      "K-NN Mean Absolute Error (MAE): 4.803559027777777\n"
     ]
    }
   ],
   "execution_count": 81
  }
 ],
 "metadata": {
  "kernelspec": {
   "display_name": "Python 3",
   "language": "python",
   "name": "python3"
  },
  "language_info": {
   "codemirror_mode": {
    "name": "ipython",
    "version": 2
   },
   "file_extension": ".py",
   "mimetype": "text/x-python",
   "name": "python",
   "nbconvert_exporter": "python",
   "pygments_lexer": "ipython2",
   "version": "2.7.6"
  }
 },
 "nbformat": 4,
 "nbformat_minor": 5
}
