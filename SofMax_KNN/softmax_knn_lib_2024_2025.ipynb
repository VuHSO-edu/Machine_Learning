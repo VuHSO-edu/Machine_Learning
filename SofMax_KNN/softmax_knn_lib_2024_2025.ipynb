{
 "cells": [
  {
   "cell_type": "markdown",
   "metadata": {},
   "source": [
    "### B.1"
   ]
  },
  {
   "cell_type": "code",
   "execution_count": 12,
   "metadata": {},
   "outputs": [],
   "source": [
    "import numpy as np\n",
    "import pandas\n",
    "from scipy import sparse\n",
    "from sklearn.model_selection import train_test_split\n",
    "from sklearn.datasets import load_iris\n",
    "\n",
    "iris = load_iris()\n",
    "# C = len(data[\"species\"].unique())"
   ]
  },
  {
   "cell_type": "code",
   "execution_count": 15,
   "metadata": {},
   "outputs": [],
   "source": [
    "def convert_labels(y, C):\n",
    "    \"\"\"\n",
    "    convert 1d label to a matrix label: each column of this\n",
    "    matrix coresponding to 1 element in y. In i-th column of Y,\n",
    "    only one non-zeros element located in the y[i]-th position,\n",
    "    and = 1 ex: y = [0, 2, 1, 0], and 3 classes then return\n",
    "\n",
    "    [[1, 0, 0, 1],\n",
    "    [0, 0, 1, 0],\n",
    "    [0, 1, 0, 0]]\n",
    "    \"\"\"\n",
    "    Y = sparse.coo_matrix((np.ones_like(y),\n",
    "    (y, np.arange(len(y)))), shape = (C, len(y))).toarray()\n",
    "    return Y\n"
   ]
  },
  {
   "cell_type": "code",
   "execution_count": 5,
   "metadata": {},
   "outputs": [],
   "source": [
    "# Process the data\n",
    "y = iris.target\n",
    "X = iris.data\n",
    "X = np.concatenate((np.ones((1, X.shape[0])), X.T), axis = 0)\n",
    "y = np.array(y)"
   ]
  },
  {
   "cell_type": "code",
   "execution_count": 6,
   "metadata": {},
   "outputs": [],
   "source": [
    "# split the data into training and test sets\n",
    "x_train, x_test, y_train, y_test = train_test_split(X.T, y, test_size=0.2, random_state=14)\n",
    "x_train = x_train.T\n",
    "x_test = x_test.T"
   ]
  },
  {
   "cell_type": "code",
   "execution_count": 7,
   "metadata": {},
   "outputs": [],
   "source": [
    "def softmax_stable(Z):\n",
    "    \"\"\"\n",
    "    Compute softmax values for each sets of scores in Z.\n",
    "    each column of Z is a set of score.\n",
    "    \"\"\"\n",
    "    e_Z = np.exp(Z - np.max(Z, axis = 0, keepdims = True))\n",
    "    A = e_Z / e_Z.sum(axis = 0)\n",
    "    return A\n",
    "def softmax(Z):\n",
    "    \"\"\"\n",
    "    #Compute softmax values for each sets of scores in V.\n",
    "    #each column of V is a set of score.\n",
    "    \"\"\"\n",
    "    e_Z = np.exp(Z)\n",
    "    A = e_Z / e_Z.sum(axis = 0)\n",
    "    return A"
   ]
  },
  {
   "cell_type": "code",
   "execution_count": 8,
   "metadata": {},
   "outputs": [],
   "source": [
    "def softmax_regression(X, y, W_init, eta, tol = 1e-4, max_count = 10000):\n",
    "    W = [W_init]\n",
    "    C = W_init.shape[1]\n",
    "    Y = convert_labels(y, C)\n",
    "    it = 0\n",
    "    N = X.shape[1]\n",
    "    d = X.shape[0]\n",
    "\n",
    "    count = 0\n",
    "    check_w_after = N\n",
    "    while count < max_count:\n",
    "        # mix data\n",
    "        mix_id = np.random.permutation(N)\n",
    "        for i in mix_id:\n",
    "            xi = X[:, i].reshape(d, 1)\n",
    "            yi = Y[:, i].reshape(C, 1)\n",
    "            ai = softmax(np.dot(W[-1].T, xi))\n",
    "            W_new = W[-1] + eta*xi.dot((yi - ai).T)\n",
    "            count += 1\n",
    "            # stopping criteria\n",
    "            if count%check_w_after == 0:\n",
    "                if np.linalg.norm(W_new - W[-check_w_after]) < tol:\n",
    "                    return W\n",
    "\n",
    "            W.append(W_new)\n",
    "    return W"
   ]
  },
  {
   "cell_type": "code",
   "execution_count": 9,
   "metadata": {},
   "outputs": [],
   "source": [
    "# cost or loss function\n",
    "def cost(X, Y, W):\n",
    "    A = softmax(W.T.dot(X))\n",
    "    return -np.sum(Y*np.log(A))"
   ]
  },
  {
   "cell_type": "code",
   "execution_count": 10,
   "metadata": {},
   "outputs": [],
   "source": [
    "# Predict that X belong to which class (1..C now indexed as 0..C-1 )\n",
    "def pred(W, X):\n",
    "    \"\"\"\n",
    "    predict output of each columns of X\n",
    "    Class of each x_i is determined by location of max probability\n",
    "    Note that class are indexed by [0, 1, 2, ...., C-1]\n",
    "    \"\"\"\n",
    "    A = softmax_stable(W.T.dot(X))\n",
    "    return np.argmax(A, axis = 0)\n",
    "\n",
    "# W[-1] is the solution, W is all history of weights"
   ]
  },
  {
   "cell_type": "code",
   "execution_count": 16,
   "metadata": {},
   "outputs": [
    {
     "name": "stdout",
     "output_type": "stream",
     "text": [
      "[[-0.06497664  3.1434934  -2.06803637]\n",
      " [ 3.33146844  1.9869425  -3.06400691]\n",
      " [ 3.19890585  0.30783576 -4.46111319]\n",
      " [-4.79919331 -0.33107446  7.35724215]\n",
      " [-3.31993537 -3.7253042   5.67751514]]\n"
     ]
    }
   ],
   "source": [
    "C = len(np.unique(y_train))\n",
    "\n",
    "eta = 0.05\n",
    "d = x_train.shape[0]\n",
    "W_init = np.random.randn(x_train.shape[0], C)\n",
    "W = softmax_regression(x_train, y_train, W_init, eta)\n",
    "print(W[-1])"
   ]
  },
  {
   "cell_type": "code",
   "execution_count": 18,
   "metadata": {},
   "outputs": [
    {
     "data": {
      "text/plain": [
       "array([0, 0, 0, 1, 2, 1, 0, 1, 0, 1, 2, 0, 2, 2, 0, 1, 0, 2, 2, 1, 0, 0,\n",
       "       0, 1, 0, 2, 0, 1, 2, 0])"
      ]
     },
     "execution_count": 18,
     "metadata": {},
     "output_type": "execute_result"
    }
   ],
   "source": [
    "y_pred = pred(W[-1], x_test)\n",
    "y_pred"
   ]
  },
  {
   "cell_type": "markdown",
   "metadata": {},
   "source": [
    "## Using library Sklearn Logistic Regression"
   ]
  },
  {
   "cell_type": "code",
   "execution_count": 19,
   "metadata": {},
   "outputs": [],
   "source": [
    "import matplotlib.pyplot as plt\n",
    "import sklearn\n",
    "#from sklearn.preprocessing import StandardScaler\n",
    "from sklearn.linear_model import LogisticRegression\n",
    "from sklearn.datasets import load_iris"
   ]
  },
  {
   "cell_type": "code",
   "execution_count": 20,
   "metadata": {},
   "outputs": [],
   "source": [
    "# split the data into training and test sets\n",
    "iris=load_iris()\n",
    "\n",
    "X=iris.data \n",
    "Y=iris.target \n",
    "\n",
    "X_train,X_test,Y_train,Y_test=sklearn.model_selection.train_test_split(X,Y,test_size=0.2,\n",
    "random_state=2)"
   ]
  },
  {
   "cell_type": "code",
   "execution_count": 21,
   "metadata": {},
   "outputs": [
    {
     "name": "stdout",
     "output_type": "stream",
     "text": [
      "0.9666666666666667\n",
      "[[14  0  0]\n",
      " [ 0  7  1]\n",
      " [ 0  0  8]]\n",
      "[0 0 2 0 0 2 0 2 2 0 0 0 0 0 1 1 0 1 2 1 2 1 2 1 1 0 0 2 0 2]\n"
     ]
    },
    {
     "name": "stderr",
     "output_type": "stream",
     "text": [
      "C:\\Users\\Admin\\AppData\\Local\\Packages\\PythonSoftwareFoundation.Python.3.12_qbz5n2kfra8p0\\LocalCache\\local-packages\\Python312\\site-packages\\sklearn\\linear_model\\_logistic.py:1247: FutureWarning: 'multi_class' was deprecated in version 1.5 and will be removed in 1.7. From then on, it will always use 'multinomial'. Leave it to its default value to avoid this warning.\n",
      "  warnings.warn(\n"
     ]
    }
   ],
   "source": [
    "\n",
    "lorg=LogisticRegression(multi_class='multinomial',solver='sag', max_iter=5000)\n",
    "\n",
    "# for training\n",
    "lorg.fit(X_train,Y_train)\n",
    "\n",
    "# for prediction\n",
    "Y_pred=lorg.predict(X_test)\n",
    "\n",
    "# for accuracy\n",
    "from sklearn.metrics import accuracy_score\n",
    "print(accuracy_score(Y_test,Y_pred))\n",
    "# for confusion matrix\n",
    "from sklearn.metrics import confusion_matrix\n",
    "cm=confusion_matrix(Y_test,Y_pred)\n",
    "print(cm)\n",
    "print(Y_pred)"
   ]
  },
  {
   "cell_type": "markdown",
   "metadata": {},
   "source": [
    "### A.2"
   ]
  },
  {
   "cell_type": "code",
   "execution_count": 1,
   "metadata": {},
   "outputs": [],
   "source": [
    "import pandas as pd\n",
    "from sklearn.decomposition import PCA as sklearnPCA\n",
    "import numpy as np\n",
    "import matplotlib.pyplot as plt\n",
    "from sklearn import datasets\n",
    "from sklearn.neighbors import KNeighborsClassifier\n",
    "from sklearn.metrics import accuracy_score, precision_score, confusion_matrix, classification_report"
   ]
  },
  {
   "cell_type": "code",
   "execution_count": 2,
   "metadata": {},
   "outputs": [],
   "source": [
    "# Import dữ liệu IRIS\n",
    "iris = datasets.load_iris()\n",
    "\n",
    "X = iris.data[:, :4]  # Lấy cả 4 đặc trưng\n",
    "Y = iris.target\n",
    "\n",
    "# Chuẩn hóa dữ liệu\n",
    "X_norm = (X - X.min())/(X.max() - X.min())"
   ]
  },
  {
   "cell_type": "code",
   "execution_count": 3,
   "metadata": {},
   "outputs": [],
   "source": [
    "# Trực quan hóa dữ liệu bằng PCA\n",
    "pca = sklearnPCA(n_components=2)  # PCA 2 chiều\n",
    "transformed = pd.DataFrame(pca.fit_transform(X_norm))"
   ]
  },
  {
   "cell_type": "code",
   "execution_count": 5,
   "metadata": {},
   "outputs": [
    {
     "data": {
      "image/png": "[encoded data removed]",
      "text/plain": [
       "<Figure size 1000x600 with 1 Axes>"
      ]
     },
     "metadata": {},
     "output_type": "display_data"
    }
   ],
   "source": [
    "plt.figure(figsize=(10, 6))\n",
    "plt.scatter(transformed[Y==0][0], transformed[Y==0][1], s=9, label='IRIS Setosa', c='red')\n",
    "plt.scatter(transformed[Y==1][0], transformed[Y==1][1], s=9, label='IRIS Versicolor', c='green', marker=\"^\")\n",
    "plt.scatter(transformed[Y==2][0], transformed[Y==2][1], s=9, label='IRIS Virginica', c='blue', marker=\"s\")\n",
    "plt.legend()\n",
    "plt.title(\"Trực quan hóa dữ liệu IRIS bằng PCA\")\n",
    "plt.savefig('iris_pca_visualization.png')\n",
    "plt.show()"
   ]
  },
  {
   "cell_type": "code",
   "execution_count": 6,
   "metadata": {},
   "outputs": [],
   "source": [
    "# Chia dữ liệu thành tập Train và Validation\n",
    "# Mỗi loại hoa: 40 mẫu đầu cho Train, 10 mẫu sau cho Validation\n",
    "X_train = np.vstack((X_norm[0:40], X_norm[50:90], X_norm[100:140]))\n",
    "Y_train = np.hstack((Y[0:40], Y[50:90], Y[100:140]))\n",
    "\n",
    "X_val = np.vstack((X_norm[40:50], X_norm[90:100], X_norm[140:150]))\n",
    "Y_val = np.hstack((Y[40:50], Y[90:100], Y[140:150]))"
   ]
  },
  {
   "cell_type": "code",
   "execution_count": 7,
   "metadata": {},
   "outputs": [
    {
     "name": "stdout",
     "output_type": "stream",
     "text": [
      "\n",
      "Kết quả với k = 1:\n",
      "Accuracy: 1.0000\n",
      "Precision (macro): 1.0000\n",
      "Confusion Matrix:\n",
      "[[10  0  0]\n",
      " [ 0 10  0]\n",
      " [ 0  0 10]]\n",
      "\n",
      "Báo cáo phân loại:\n",
      "              precision    recall  f1-score   support\n",
      "\n",
      "      setosa       1.00      1.00      1.00        10\n",
      "  versicolor       1.00      1.00      1.00        10\n",
      "   virginica       1.00      1.00      1.00        10\n",
      "\n",
      "    accuracy                           1.00        30\n",
      "   macro avg       1.00      1.00      1.00        30\n",
      "weighted avg       1.00      1.00      1.00        30\n",
      "\n",
      "\n",
      "Kết quả với k = 3:\n",
      "Accuracy: 1.0000\n",
      "Precision (macro): 1.0000\n",
      "Confusion Matrix:\n",
      "[[10  0  0]\n",
      " [ 0 10  0]\n",
      " [ 0  0 10]]\n",
      "\n",
      "Báo cáo phân loại:\n",
      "              precision    recall  f1-score   support\n",
      "\n",
      "      setosa       1.00      1.00      1.00        10\n",
      "  versicolor       1.00      1.00      1.00        10\n",
      "   virginica       1.00      1.00      1.00        10\n",
      "\n",
      "    accuracy                           1.00        30\n",
      "   macro avg       1.00      1.00      1.00        30\n",
      "weighted avg       1.00      1.00      1.00        30\n",
      "\n",
      "\n",
      "Kết quả với k = 5:\n",
      "Accuracy: 1.0000\n",
      "Precision (macro): 1.0000\n",
      "Confusion Matrix:\n",
      "[[10  0  0]\n",
      " [ 0 10  0]\n",
      " [ 0  0 10]]\n",
      "\n",
      "Báo cáo phân loại:\n",
      "              precision    recall  f1-score   support\n",
      "\n",
      "      setosa       1.00      1.00      1.00        10\n",
      "  versicolor       1.00      1.00      1.00        10\n",
      "   virginica       1.00      1.00      1.00        10\n",
      "\n",
      "    accuracy                           1.00        30\n",
      "   macro avg       1.00      1.00      1.00        30\n",
      "weighted avg       1.00      1.00      1.00        30\n",
      "\n",
      "\n",
      "Kết quả với k = 7:\n",
      "Accuracy: 1.0000\n",
      "Precision (macro): 1.0000\n",
      "Confusion Matrix:\n",
      "[[10  0  0]\n",
      " [ 0 10  0]\n",
      " [ 0  0 10]]\n",
      "\n",
      "Báo cáo phân loại:\n",
      "              precision    recall  f1-score   support\n",
      "\n",
      "      setosa       1.00      1.00      1.00        10\n",
      "  versicolor       1.00      1.00      1.00        10\n",
      "   virginica       1.00      1.00      1.00        10\n",
      "\n",
      "    accuracy                           1.00        30\n",
      "   macro avg       1.00      1.00      1.00        30\n",
      "weighted avg       1.00      1.00      1.00        30\n",
      "\n",
      "\n",
      "Kết quả với k = 9:\n",
      "Accuracy: 1.0000\n",
      "Precision (macro): 1.0000\n",
      "Confusion Matrix:\n",
      "[[10  0  0]\n",
      " [ 0 10  0]\n",
      " [ 0  0 10]]\n",
      "\n",
      "Báo cáo phân loại:\n",
      "              precision    recall  f1-score   support\n",
      "\n",
      "      setosa       1.00      1.00      1.00        10\n",
      "  versicolor       1.00      1.00      1.00        10\n",
      "   virginica       1.00      1.00      1.00        10\n",
      "\n",
      "    accuracy                           1.00        30\n",
      "   macro avg       1.00      1.00      1.00        30\n",
      "weighted avg       1.00      1.00      1.00        30\n",
      "\n"
     ]
    }
   ],
   "source": [
    "# Áp dụng thuật toán K-NN\n",
    "# Thử nghiệm với các giá trị k khác nhau\n",
    "k_values = [1, 3, 5, 7, 9]\n",
    "accuracy_scores = []\n",
    "\n",
    "for k in k_values:\n",
    "    knn = KNeighborsClassifier(n_neighbors=k)\n",
    "    knn.fit(X_train, Y_train)\n",
    "    Y_pred = knn.predict(X_val)\n",
    "    accuracy = accuracy_score(Y_val, Y_pred)\n",
    "    accuracy_scores.append(accuracy)\n",
    "    \n",
    "    print(f\"\\nKết quả với k = {k}:\")\n",
    "    print(f\"Accuracy: {accuracy:.4f}\")\n",
    "    \n",
    "    # Tính precision cho từng lớp và lấy trung bình\n",
    "    precision = precision_score(Y_val, Y_pred, average='macro')\n",
    "    print(f\"Precision (macro): {precision:.4f}\")\n",
    "    \n",
    "    # Ma trận nhầm lẫn\n",
    "    cm = confusion_matrix(Y_val, Y_pred)\n",
    "    print(\"Confusion Matrix:\")\n",
    "    print(cm)\n",
    "    \n",
    "    # Báo cáo phân loại chi tiết\n",
    "    print(\"\\nBáo cáo phân loại:\")\n",
    "    print(classification_report(Y_val, Y_pred, target_names=iris.target_names))"
   ]
  },
  {
   "cell_type": "code",
   "execution_count": 8,
   "metadata": {},
   "outputs": [
    {
     "data": {
      "image/png": "[encoded data removed]",
      "text/plain": [
       "<Figure size 1000x600 with 1 Axes>"
      ]
     },
     "metadata": {},
     "output_type": "display_data"
    }
   ],
   "source": [
    "# Vẽ biểu đồ độ chính xác theo k\n",
    "plt.figure(figsize=(10, 6))\n",
    "plt.plot(k_values, accuracy_scores, marker='o')\n",
    "plt.title('Độ chính xác của K-NN theo giá trị k')\n",
    "plt.xlabel('Số lượng láng giềng (k)')\n",
    "plt.ylabel('Độ chính xác')\n",
    "plt.xticks(k_values)\n",
    "plt.grid(True)\n",
    "plt.savefig('knn_accuracy_by_k.png')\n",
    "plt.show()"
   ]
  },
  {
   "cell_type": "code",
   "execution_count": 9,
   "metadata": {},
   "outputs": [
    {
     "name": "stdout",
     "output_type": "stream",
     "text": [
      "\n",
      "Giá trị k tốt nhất: 1 với độ chính xác: 1.0000\n"
     ]
    }
   ],
   "source": [
    "# Chọn k tốt nhất\n",
    "best_k = k_values[np.argmax(accuracy_scores)]\n",
    "print(f\"\\nGiá trị k tốt nhất: {best_k} với độ chính xác: {max(accuracy_scores):.4f}\")"
   ]
  },
  {
   "cell_type": "code",
   "execution_count": 10,
   "metadata": {},
   "outputs": [],
   "source": [
    "# Áp dụng K-NN với k tốt nhất\n",
    "best_knn = KNeighborsClassifier(n_neighbors=best_k)\n",
    "best_knn.fit(X_train, Y_train)\n",
    "Y_pred = best_knn.predict(X_val)"
   ]
  },
  {
   "cell_type": "code",
   "execution_count": 11,
   "metadata": {},
   "outputs": [
    {
     "data": {
      "image/png": "[encoded data removed]",
      "text/plain": [
       "<Figure size 800x600 with 2 Axes>"
      ]
     },
     "metadata": {},
     "output_type": "display_data"
    }
   ],
   "source": [
    "# Vẽ ma trận nhầm lẫn\n",
    "cm = confusion_matrix(Y_val, Y_pred)\n",
    "plt.figure(figsize=(8, 6))\n",
    "plt.imshow(cm, interpolation='nearest', cmap=plt.cm.Blues)\n",
    "plt.title(f'Ma trận nhầm lẫn với k={best_k}')\n",
    "plt.colorbar()\n",
    "tick_marks = np.arange(len(iris.target_names))\n",
    "plt.xticks(tick_marks, iris.target_names, rotation=45)\n",
    "plt.yticks(tick_marks, iris.target_names)\n",
    "\n",
    "# Thêm giá trị vào ô\n",
    "thresh = cm.max() / 2.\n",
    "for i in range(cm.shape[0]):\n",
    "    for j in range(cm.shape[1]):\n",
    "        plt.text(j, i, format(cm[i, j], 'd'),\n",
    "                 horizontalalignment=\"center\",\n",
    "                 color=\"white\" if cm[i, j] > thresh else \"black\")\n",
    "\n",
    "plt.tight_layout()\n",
    "plt.ylabel('Nhãn thực tế')\n",
    "plt.xlabel('Nhãn dự đoán')\n",
    "plt.savefig('confusion_matrix.png')\n",
    "plt.show()"
   ]
  },
  {
   "cell_type": "markdown",
   "metadata": {},
   "source": [
    "### B.3"
   ]
  },
  {
   "cell_type": "code",
   "execution_count": 20,
   "metadata": {},
   "outputs": [],
   "source": [
    "import numpy as np\n",
    "import pandas as pd\n",
    "from sklearn.datasets import fetch_20newsgroups_vectorized\n",
    "from sklearn.model_selection import train_test_split\n",
    "from sklearn.linear_model import LogisticRegression\n",
    "from sklearn.metrics import accuracy_score, confusion_matrix\n",
    "\n",
    "n_samples = 20000\n",
    "X, y = fetch_20newsgroups_vectorized(subset='all', return_X_y=True)\n",
    "X = X[:n_samples]\n",
    "y = y[:n_samples]\n",
    "X_train, X_test, y_train, y_test = train_test_split(X, y, random_state=42,\n",
    "\n",
    "stratify=y, test_size=0.1)\n",
    "\n",
    "train_samples, n_features = X_train.shape\n",
    "n_classes = np.unique(y).shape[0]"
   ]
  },
  {
   "cell_type": "code",
   "execution_count": 21,
   "metadata": {},
   "outputs": [
    {
     "name": "stdout",
     "output_type": "stream",
     "text": [
      "accuracy_score: 0.8212201591511936\n",
      "confusion_matrix: [[68  0  0  0  0  0  0  0  0  1  0  1  0  1  0  4  0  2  0  3]\n",
      " [ 0 79  3  1  0  5  2  0  0  0  0  1  1  1  1  1  0  1  0  1]\n",
      " [ 0  5 78  6  1  4  2  0  1  0  0  0  1  0  1  0  0  0  0  0]\n",
      " [ 0  4  8 66  5  1  4  1  1  0  0  1  3  2  0  0  0  1  1  0]\n",
      " [ 0  3  2  8 74  1  2  0  0  0  0  0  3  0  0  1  1  1  0  0]\n",
      " [ 0  4  7  3  1 81  0  1  1  1  0  0  0  0  0  0  0  0  0  0]\n",
      " [ 0  0  0  2  2  2 82  4  0  1  1  1  1  1  0  1  0  0  0  0]\n",
      " [ 0  1  0  0  0  0  2 92  0  0  0  0  1  2  1  0  0  0  0  0]\n",
      " [ 0  0  0  0  1  0  3  6 86  1  0  0  0  1  1  0  0  0  1  0]\n",
      " [ 0  1  0  1  0  1  3  0  0 86  4  0  0  3  0  0  0  0  0  0]\n",
      " [ 0  0  0  0  0  0  4  0  0  3 92  0  0  0  0  0  0  0  1  0]\n",
      " [ 0  2  0  1  1  4  2  0  1  2  1 82  0  0  0  0  2  1  0  0]\n",
      " [ 0  4  0  1  1  1  2  4  0  0  0  0 85  0  0  0  0  0  0  0]\n",
      " [ 0  1  0  0  0  0  3  3  2  1  0  1  1 80  3  1  0  2  1  0]\n",
      " [ 1  1  0  0  1  2  2  0  0  1  0  0  0  3 87  1  0  0  0  0]\n",
      " [ 2  3  0  0  1  2  1  0  0  0  1  0  1  0  0 87  0  1  0  1]\n",
      " [ 0  0  0  0  1  1  0  0  0  1  0  1  3  1  1  0 80  1  1  0]\n",
      " [ 0  0  0  0  0  2  0  0  1  2  0  1  1  1  1  2  0 81  2  0]\n",
      " [ 1  0  0  0  0  0  1  0  1  2  1  0  1  1  1  1 11  1 55  0]\n",
      " [ 7  0  0  0  0  0  0  0  0  1  0  2  1  5  1 14  3  1  1 27]]\n"
     ]
    }
   ],
   "source": [
    "model = LogisticRegression()\n",
    "model.fit(X_train, y_train)\n",
    "y_pred = model.predict(X_test)\n",
    "print(f\"accuracy_score: {accuracy_score(y_test, y_pred)}\")\n",
    "print(f\"confusion_matrix: {confusion_matrix(y_test, y_pred)}\")"
   ]
  },
  {
   "cell_type": "markdown",
   "metadata": {},
   "source": [
    "### B.4"
   ]
  },
  {
   "cell_type": "code",
   "execution_count": 15,
   "metadata": {},
   "outputs": [],
   "source": [
    "import numpy as np\n",
    "import pandas as pd\n",
    "from sklearn.model_selection import train_test_split\n",
    "from sklearn.linear_model import LogisticRegression\n",
    "from sklearn.metrics import accuracy_score, confusion_matrix"
   ]
  },
  {
   "cell_type": "code",
   "execution_count": 13,
   "metadata": {},
   "outputs": [],
   "source": [
    "path = \"D:\\\\Machine Learning\\\\SofMax_KNN\\\\data\\\\glass.csv\"\n",
    "data = pd.read_csv(path)"
   ]
  },
  {
   "cell_type": "code",
   "execution_count": 17,
   "metadata": {},
   "outputs": [],
   "source": [
    "X = data.drop(columns=\"Type\")\n",
    "Y = data[\"Type\"]\n",
    "\n",
    "x_train, x_test, y_train, y_test = train_test_split(X, Y, test_size=0.25, random_state=42)"
   ]
  },
  {
   "cell_type": "code",
   "execution_count": 18,
   "metadata": {},
   "outputs": [
    {
     "name": "stdout",
     "output_type": "stream",
     "text": [
      "accuracy_score: 1.0\n",
      "confusion_matrix: [[14  0  0  0  0  0]\n",
      " [ 0 21  0  0  0  0]\n",
      " [ 0  0  4  0  0  0]\n",
      " [ 0  0  0  4  0  0]\n",
      " [ 0  0  0  0  3  0]\n",
      " [ 0  0  0  0  0  8]]\n"
     ]
    },
    {
     "name": "stderr",
     "output_type": "stream",
     "text": [
      "C:\\Users\\Admin\\AppData\\Local\\Packages\\PythonSoftwareFoundation.Python.3.12_qbz5n2kfra8p0\\LocalCache\\local-packages\\Python312\\site-packages\\sklearn\\linear_model\\_logistic.py:465: ConvergenceWarning: lbfgs failed to converge (status=1):\n",
      "STOP: TOTAL NO. OF ITERATIONS REACHED LIMIT.\n",
      "\n",
      "Increase the number of iterations (max_iter) or scale the data as shown in:\n",
      "    https://scikit-learn.org/stable/modules/preprocessing.html\n",
      "Please also refer to the documentation for alternative solver options:\n",
      "    https://scikit-learn.org/stable/modules/linear_model.html#logistic-regression\n",
      "  n_iter_i = _check_optimize_result(\n"
     ]
    }
   ],
   "source": [
    "model = LogisticRegression()\n",
    "model.fit(x_train, y_train)\n",
    "y_pred = model.predict(x_test)\n",
    "print(f\"accuracy_score: {accuracy_score(y_test, y_pred)}\")\n",
    "print(f\"confusion_matrix: {confusion_matrix(y_test, y_pred)}\")"
   ]
  },
  {
   "cell_type": "markdown",
   "metadata": {},
   "source": [
    "## TH4"
   ]
  },
  {
   "cell_type": "code",
   "execution_count": 23,
   "metadata": {},
   "outputs": [],
   "source": [
    "import os\n",
    "import numpy as np\n",
    "import warnings\n",
    "\n",
    "warnings.filterwarnings('ignore')\n",
    "\n",
    "# set names to the paths because they're too long\n",
    "data_path = 'D:\\\\Machine Learning\\\\SofMax_KNN\\\\data'\n",
    "# train path\n",
    "train_images_path = os.path.join(data_path, 'train-images-idx3-ubyte.gz')\n",
    "train_labels_path = os.path.join(data_path, 'train-labels-idx1-ubyte.gz')\n",
    "# test path\n",
    "test_images_path = os.path.join(data_path, 't10k-images-idx3-ubyte.gz')\n",
    "test_labels_path = os.path.join(data_path, 't10k-labels-idx1-ubyte.gz')"
   ]
  },
  {
   "cell_type": "code",
   "execution_count": 24,
   "metadata": {},
   "outputs": [],
   "source": [
    "def get_mnist_data(images_path, labels_path, num_images\n",
    ", shuffle=False, _is=True, image_size=28):\n",
    "    # read data\n",
    "    import gzip # to decompress gz (zip) file\n",
    "    # open file training to read training data\n",
    "    f_images = gzip.open(images_path,'r')\n",
    "    # skip 16 first bytes because these are not data, only header infor\n",
    "    f_images.read(16)\n",
    "    # general: read num_images data samples if this parameter is set;\n",
    "    # if not, read all (60000 training or 10000 test)\n",
    "    real_num = num_images if not shuffle else (60000 if _is else 10000)\n",
    "    # read all data to buf_images (28x28xreal_num)\n",
    "    buf_images = f_images.read(image_size * image_size * real_num)\n",
    "    # images\n",
    "    images = np.frombuffer(buf_images, dtype=np.uint8).astype(np.float32)\n",
    "    images = images.reshape(real_num, image_size, image_size,)\n",
    "    # Read labels\n",
    "    f_labels = gzip.open(labels_path,'r')\n",
    "    f_labels.read(8)\n",
    "    labels = np.zeros((real_num)).astype(np.int64)\n",
    "    # rearrange to correspond the images and labels\n",
    "    for i in range(0, real_num):\n",
    "        buf_labels = f_labels.read(1)\n",
    "        labels[i] = np.frombuffer(buf_labels, dtype=np.uint8).astype(np.int64)\n",
    "    # shuffle to get random images data\n",
    "    if shuffle is True:\n",
    "        rand_id = np.random.randint(real_num, size=num_images)\n",
    "        images = images[rand_id, :]\n",
    "        labels = labels[rand_id,]\n",
    "    # change images data to type of vector 28x28 dimentional\n",
    "    images = images.reshape(num_images, image_size * image_size)\n",
    "    return images, labels"
   ]
  },
  {
   "cell_type": "code",
   "execution_count": 25,
   "metadata": {},
   "outputs": [
    {
     "name": "stdout",
     "output_type": "stream",
     "text": [
      "(5000, 784) (5000,)\n",
      "(10000, 784) (10000,)\n"
     ]
    }
   ],
   "source": [
    "train_images, train_labels = get_mnist_data(\n",
    "train_images_path, train_labels_path, 5000, shuffle=True)\n",
    "test_images, test_labels = get_mnist_data(\n",
    "test_images_path, test_labels_path, 10000, _is=False, shuffle=True)\n",
    "print(train_images.shape, train_labels.shape)\n",
    "print(test_images.shape, test_labels.shape)"
   ]
  },
  {
   "cell_type": "code",
   "execution_count": 26,
   "metadata": {},
   "outputs": [],
   "source": [
    "# Convert matrix to image\n",
    "def get_image(image):\n",
    "    return image.reshape(28, 28)\n",
    "\n",
    "# These methods are from Vi du 1\n",
    "def convert_labels(y, C):\n",
    "    from scipy import sparse\n",
    "    Y = sparse.coo_matrix((np.ones_like(y),\n",
    "        (y, np.arange(len(y)))), shape = (C, len(y))).toarray()\n",
    "    return Y\n",
    "\n",
    "def softmax(Z):\n",
    "    e_Z = np.exp(Z)\n",
    "    A = e_Z / e_Z.sum(axis = 0)\n",
    "    return A\n",
    "\n",
    "def softmax_stable(Z):\n",
    "    e_Z = np.exp(Z - np.max(Z, axis = 0, keepdims = True))\n",
    "    A = e_Z / e_Z.sum(axis = 0)\n",
    "    return A\n",
    "\n",
    "def pred(W, X):\n",
    "    A = softmax_stable(W.T.dot(X))\n",
    "    return np.argmax(A, axis = 0)"
   ]
  },
  {
   "cell_type": "code",
   "execution_count": 27,
   "metadata": {},
   "outputs": [],
   "source": [
    "def _softmax_regression(X, Y, theta, lambda_=0.5,\n",
    "iterations=20, learning_rate=1e-5, batch_size=200):\n",
    "    from sklearn.metrics import log_loss\n",
    "    losses = []\n",
    "    _theta = theta\n",
    "    d, N = X.shape\n",
    "    for iter_ in range(iterations):\n",
    "        shuffle_index = np.random.permutation(N)\n",
    "        for i in shuffle_index:\n",
    "            xi = X[:, i].reshape(d, 1)\n",
    "            yi = Y[:, i].reshape(10, 1)\n",
    "            ai = softmax_stable(np.dot(_theta.T, xi))\n",
    "            _theta += learning_rate * xi.dot((yi - ai).T)\n",
    "            if (iter_ * N + i) % batch_size == 0:\n",
    "                Y_hat = np.dot(_theta.T, X)\n",
    "                losses.append(log_loss(Y, Y_hat))\n",
    "        Y_hat = np.dot(_theta.T, X)\n",
    "        print(f\"epoch {iter_} - cost {log_loss(Y, Y_hat) / N}\")\n",
    "    return _theta, losses"
   ]
  },
  {
   "cell_type": "code",
   "execution_count": 28,
   "metadata": {},
   "outputs": [
    {
     "name": "stdout",
     "output_type": "stream",
     "text": [
      "8 4\n"
     ]
    },
    {
     "data": {
      "text/plain": [
       "<Figure size 640x480 with 0 Axes>"
      ]
     },
     "metadata": {},
     "output_type": "display_data"
    },
    {
     "data": {
      "image/png": "[encoded data removed]",
      "text/plain": [
       "<Figure size 640x480 with 2 Axes>"
      ]
     },
     "metadata": {},
     "output_type": "display_data"
    }
   ],
   "source": [
    "# for display and test digit :D\n",
    "import random\n",
    "import matplotlib.pyplot as plt\n",
    "index = random.randint(0, 1000)\n",
    "print(train_labels[index], test_labels[index])\n",
    "train_image = np.asarray(get_image(train_images[index])).squeeze()\n",
    "test_image = np.asarray(get_image(test_images[index])).squeeze()\n",
    "plt.figure()\n",
    "#subplot(r,c) provide the no. of rows and columns\n",
    "f, axarr = plt.subplots(1, 2)\n",
    "# use the created array to output your multiple images. In this case I have stacked 4 images vertically\n",
    "axarr[0].imshow(train_image)\n",
    "axarr[1].imshow(test_image)\n",
    "plt.show()"
   ]
  },
  {
   "cell_type": "code",
   "execution_count": 29,
   "metadata": {},
   "outputs": [],
   "source": [
    "X_train = np.concatenate((np.ones((1, train_images.shape[0])), train_images.T),\n",
    "axis = 0)\n",
    "\n",
    "Y_train = convert_labels(train_labels, 10)"
   ]
  },
  {
   "cell_type": "code",
   "execution_count": 30,
   "metadata": {},
   "outputs": [
    {
     "name": "stdout",
     "output_type": "stream",
     "text": [
      "(785, 5000)\n",
      "(10, 5000)\n"
     ]
    },
    {
     "data": {
      "text/plain": [
       "<Figure size 640x480 with 0 Axes>"
      ]
     },
     "metadata": {},
     "output_type": "display_data"
    },
    {
     "data": {
      "image/png": "[encoded data removed]",
      "text/plain": [
       "<Figure size 640x480 with 2 Axes>"
      ]
     },
     "metadata": {},
     "output_type": "display_data"
    }
   ],
   "source": [
    "print(X_train.shape)\n",
    "print(Y_train.shape)\n",
    "train_image = np.asarray(get_image(train_images[index])).squeeze()\n",
    "test_image = np.asarray(get_image(test_images[index])).squeeze()\n",
    "plt.figure()\n",
    "#subplot(r,c) provide the no. of rows and columns\n",
    "f, axarr = plt.subplots(1, 2)\n",
    "# use the created array to output your multiple images. In this case I have stacked 4 images vertically\n",
    "axarr[0].imshow(train_image)\n",
    "axarr[1].imshow(test_image)\n",
    "plt.show()"
   ]
  },
  {
   "cell_type": "code",
   "execution_count": 31,
   "metadata": {},
   "outputs": [
    {
     "name": "stdout",
     "output_type": "stream",
     "text": [
      "epoch 0 - cost 0.027443344931256546\n",
      "epoch 1 - cost 0.017302500778483578\n",
      "epoch 2 - cost 0.012975715220082196\n",
      "epoch 3 - cost 0.008650476813388139\n",
      "epoch 4 - cost 0.007929603745605796\n",
      "epoch 5 - cost 0.012975715220082196\n",
      "epoch 6 - cost 0.0036054581913176945\n",
      "epoch 7 - cost 0.0036130276495739927\n",
      "epoch 8 - cost 0.0028834922711293938\n",
      "epoch 9 - cost 0.005046111474476423\n",
      "epoch 10 - cost 0.0021626192033470507\n",
      "epoch 11 - cost 0.0014417461355647082\n",
      "epoch 12 - cost 0.0014417461355647082\n",
      "epoch 13 - cost 0.0014417461355647082\n",
      "epoch 14 - cost 1.9053659964405505e-05\n",
      "epoch 15 - cost 2.2204460492503132e-17\n",
      "epoch 16 - cost 2.2204460492503132e-17\n",
      "epoch 17 - cost 2.2204460492503132e-17\n",
      "epoch 18 - cost 2.2204460492503132e-17\n",
      "epoch 19 - cost 2.2204460492503132e-17\n",
      "training success:  (785, 10) 500\n"
     ]
    }
   ],
   "source": [
    "theta = np.zeros((X_train.shape[0], 10))\n",
    "opt_theta, losses = _softmax_regression(X_train, Y_train, theta)\n",
    "print('training success: ', opt_theta.shape, len(losses))"
   ]
  },
  {
   "cell_type": "code",
   "execution_count": 32,
   "metadata": {},
   "outputs": [
    {
     "name": "stdout",
     "output_type": "stream",
     "text": [
      "accuracy training data:  0.9414\n",
      "(785, 10000)\n",
      "accuracy testing data:  0.8679\n"
     ]
    }
   ],
   "source": [
    "from sklearn.metrics import accuracy_score\n",
    "print('accuracy training data: ', accuracy_score(train_labels, pred(opt_theta, X_train)))\n",
    "\n",
    "# test_images, test_labels = get_mnist_data(\n",
    "# test_images_path, test_labels_path, 1000, _is=False, shuffle=False)\n",
    "X_test = np.concatenate((np.ones((1, test_images.shape[0])), test_images.T), axis = 0)\n",
    "\n",
    "print(X_test.shape)\n",
    "print('accuracy testing data: ', accuracy_score(test_labels, pred(opt_theta, X_test)))"
   ]
  },
  {
   "cell_type": "code",
   "execution_count": 33,
   "metadata": {},
   "outputs": [],
   "source": [
    "from sklearn.decomposition import PCA\n",
    "from sklearn.linear_model import LogisticRegression\n",
    "from sklearn.metrics import accuracy_score\n",
    "\n",
    "pca = PCA(n_components=2)\n",
    "x_train_1 = pca.fit_transform(train_images)\n",
    "x_test_1 = pca.fit_transform(test_images)"
   ]
  },
  {
   "cell_type": "code",
   "execution_count": 34,
   "metadata": {},
   "outputs": [
    {
     "name": "stdout",
     "output_type": "stream",
     "text": [
      "0.4524\n",
      "[8 0 9 ... 8 8 0]\n",
      "[0 0 7 ... 2 3 0]\n"
     ]
    }
   ],
   "source": [
    "model = LogisticRegression()\n",
    "model.fit(x_train_1, train_labels)\n",
    "y_pred = model.predict(x_test_1)\n",
    "print(accuracy_score(test_labels, y_pred))\n",
    "print(y_pred)\n",
    "print(pred(opt_theta, X_test))"
   ]
  }
 ],
 "metadata": {
  "kernelspec": {
   "display_name": "Python 3",
   "language": "python",
   "name": "python3"
  },
  "language_info": {
   "codemirror_mode": {
    "name": "ipython",
    "version": 3
   },
   "file_extension": ".py",
   "mimetype": "text/x-python",
   "name": "python",
   "nbconvert_exporter": "python",
   "pygments_lexer": "ipython3",
   "version": "3.12.9"
  }
 },
 "nbformat": 4,
 "nbformat_minor": 2
}
